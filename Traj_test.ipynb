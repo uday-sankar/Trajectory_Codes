{
 "cells": [
  {
   "cell_type": "code",
   "execution_count": 1,
   "id": "552618ad-f274-486c-b99f-6b97a1be1f11",
   "metadata": {},
   "outputs": [],
   "source": [
    "import numpy as np\n",
    "import math\n",
    "from math import exp\n",
    "from math import sqrt\n",
    "from random import uniform \n",
    "from random import seed\n",
    "import matplotlib.pyplot as plt"
   ]
  },
  {
   "cell_type": "code",
   "execution_count": 2,
   "id": "fbd9d089-5c7a-4342-b0a9-d38373ee778e",
   "metadata": {},
   "outputs": [],
   "source": [
    "def step(xi,yi,vxi,vyi,axi=0,ayi=0,dt=0.01):#the inital cordinateds for each step Velocity verlet\n",
    "    \n",
    "    #axi,ayi=F(xi,yi)#initial accelerations(nth step)\n",
    "    \n",
    "    vx_half=vxi + 0.5*axi*dt#velocity ast half points n+1/2\n",
    "    vy_half=vyi + 0.5*ayi*dt\n",
    "    \n",
    "    xn=xi + vx_half*dt# new displacements displacements at n+1 step\n",
    "    yn=yi + vy_half*dt \n",
    "    \n",
    "    axn,ayn=F(xn,yn) #new accelerations (at n+1 step) \n",
    "    \n",
    "    vxn=vx_half + 0.5*axn*dt # new velocity (at n+1 step)\n",
    "    vyn=vy_half + 0.5*ayn*dt \n",
    "\n",
    "    return xn, yn , vxn , vyn, axn, ayn\n",
    "\n",
    "def run(xinit,yinit,pxinit,pyinit,Steps=1000,dt=0.01):\n",
    "    #print(\"Initial Py:\",pyinit)\n",
    "    axt,ayt=F(xinit,yinit)\n",
    "    xt,yt=[xinit],[yinit]\n",
    "    vxt,vyt=pxinit/mx,pyinit/my\n",
    "    Px=[pxinit]\n",
    "    Py=[pyinit]\n",
    "    e=PES(xt[-1],yt[-1]) + 0.5*mx*vxt**2 + 0.5*my*vyt**2\n",
    "    E=[e]\n",
    "    for i in range(Steps):\n",
    "        x_new, y_new, vxt, vyt, axt, ayt=step(xt[-1],yt[-1],vxt,vyt,axt,ayt,dt)\n",
    "        xt.append(x_new)\n",
    "        yt.append(y_new)\n",
    "        Px.append(vxt*mx)\n",
    "        Py.append(vyt*my)\n",
    "        e=PES(xt[-1],yt[-1]) + 0.5*mx*vxt**2 + 0.5*my*vyt**2\n",
    "        E.append(e)\n",
    "    return xt,yt,Px,Py,E\n",
    "\n",
    "def run_multP(xinit,yinit,NumTraj=10,steps=1000,dt=0.01,TotE=101):\n",
    "    Xt=[]\n",
    "    Yt=[]\n",
    "    Vxt=[]\n",
    "    Vyt=[]\n",
    "    Et=[]\n",
    "    for i in range(NumTraj):\n",
    "        px,py,v=InitializeP(xinit,yinit,TotE)\n",
    "        xt,yt,vxt,vyt,E=run(xinit,yinit,px,py,steps,dt)\n",
    "        Xt.append(xt)\n",
    "        Yt.append(yt)\n",
    "        Et.append(E)\n",
    "        Vxt.append(vxt)\n",
    "        Vyt.append(vyt)\n",
    "    return Xt,Yt,Vxt,Vyt,Et\n",
    "\n",
    "def run_Till(xinit,yinit,pxinit,pyinit,Xend=3,MaxSteps=1000,dt=0.01):\n",
    "    #print(\"Initial Py:\",pyinit)\n",
    "    axt,ayt=F(xinit,yinit)\n",
    "    xt,yt=[xinit],[yinit]\n",
    "    vxt,vyt=pxinit/mx,pyinit/my\n",
    "    Vx=[vxt]\n",
    "    Vy=[vyt]\n",
    "    V=[PES(xt[-1],yt[-1])]\n",
    "    e=V[-1] + 0.5*mx*vxt**2 + 0.5*my*vyt**2\n",
    "    E=[e]\n",
    "    i=0\n",
    "    while xt[-1]<Xend:\n",
    "        if i>MaxSteps:\n",
    "            break\n",
    "        x_new, y_new, vxt, vyt, axt, ayt=step(xt[-1],yt[-1],vxt,vyt,axt,ayt,dt)\n",
    "        xt.append(x_new)\n",
    "        yt.append(y_new)\n",
    "        Vx.append(vxt)\n",
    "        Vy.append(vyt)\n",
    "        v=PES(xt[-1],yt[-1])#+0.5*m*(vxt**2+vyt**2)\n",
    "        V.append(v)\n",
    "        e=PES(xt[-1],yt[-1]) + 0.5*mx*vxt**2 + 0.5*my*vyt**2\n",
    "        E.append(e)\n",
    "        i+=1\n",
    "    return xt,yt,Vx,Vy,E,V"
   ]
  },
  {
   "cell_type": "code",
   "execution_count": 5,
   "id": "6f6232d3-a831-4cfe-a7db-ac783bec95fa",
   "metadata": {},
   "outputs": [],
   "source": [
    "def PES(x,y):\n",
    "    q2=180*y/3.141\n",
    "    V1=-b1*q2**2+B1*q2**4+De*(1-exp(-a*(x-1.5)))**2+V_1\n",
    "    S1=1/(1+exp(-sw1*(x-spx1)))\n",
    "    V2=-a2*(x-2.1)**2+V_2-b2*q2**2+B2*q2**4+Sl*exp(fl*(x-ex1))\n",
    "    V3=-CpW*exp((-k2/(x-1)**4)*q2**2)-by*q2**2 +By*q2**4+V_3\n",
    "    S2=1/(1+exp(-sw2*(x-spx2)))\n",
    "    v=V1*(1-S1)+S1*V2*(1-S2)+S2*V3\n",
    "    return v#*418.39#in a.m.u*Angstrom/(Picosecond)^2\n",
    "\n",
    "#function initializing variables\n",
    "def Initialize(Xrange=[-15,15],Yrange=[-10,10],TotE=120): \n",
    "    x,y=uniform(Xrange[0],Xrange[1]),uniform(Yrange[0],Yrange[1])\n",
    "    V=PES(x,y)\n",
    "    KE=(TotE-V)#in a.m.u*Angstrom/(Picosecond)^2\n",
    "    KEx=uniform(0,KE)\n",
    "    KEy=KE-KEx\n",
    "    \n",
    "    sign=uniform(-1,1)\n",
    "    sign=sign/abs(sign)\n",
    "    px=sign*sqrt(KEx*2*mx)\n",
    "    \n",
    "    sign=uniform(-1,1)\n",
    "    sign=sign/abs(sign)\n",
    "    py=sign*sqrt(KEy*2*my)\n",
    "\n",
    "    return x,y,px,py,V\n",
    "\n",
    "def py(x,y,px,TotE=120):\n",
    "    V=PES(x,y)\n",
    "    KE=(TotE-V)\n",
    "    s=uniform(-1,1)\n",
    "    s=s/abs(s)\n",
    "    py=s*sqrt(my*(2*KE-px**2/mx))\n",
    "    return py\n",
    "\n",
    "def InitializeP(x,y,TotE=ET): \n",
    "    V=PES(x,y)\n",
    "    KE=(TotE-V)*418.4\n",
    "    KEx=uniform(0,KE)\n",
    "    KEy=KE-KEx\n",
    "    \n",
    "    sign=uniform(-1,1)\n",
    "    sign=sign/abs(sign)\n",
    "    px=sign*sqrt(KEx*2*mx)\n",
    "    \n",
    "    sign=uniform(-1,1)\n",
    "    sign=sign/abs(sign)\n",
    "    py=sign*sqrt(KEy*2*my)\n",
    "\n",
    "    return px,py,V\n",
    "\n",
    "def F(x,y): #return accelarations; inputs: x(in angstroms), y(in radians); outputs: Ax(Kcal/Angstrom),Ay(Kcal/rad)  \n",
    "    #Energy Functions\n",
    "    q2=y*180/3.141#radian to degree conversion\n",
    "    V1=-b1*q2**2+B1*q2**4+De*(1-exp(-a*(x-1.5)))**2+V_1\n",
    "    S1=1/(1+exp(-sw1*(x-spx1)))\n",
    "    V2=-a2*(x-2.1)**2+V_2-b2*q2**2+B2*q2**4+Sl*exp(fl*(x-ex1))\n",
    "    V3=-CpW*exp((-k2/(x-1)**4)*q2**2)-by*q2**2 +By*q2**4+V_3\n",
    "    S2=1/(1+exp(-sw2*(x-spx2)))\n",
    "    #Derivative functions\n",
    "    dS1 = sw1*S1*(1-S1)\n",
    "    dS2 = sw2*S2*(1-S2)\n",
    "\n",
    "    dV1_dx = 2*De*a*(1-exp(-a*(x-1.5)))*exp(-a*(x-1.5))\n",
    "    dV1_dy = -2*b1*q2+4*B1*q2**3\n",
    "\n",
    "    dV2_dx = -2*a2*(x-2.1)+Sl*fl*exp(fl*(x-ex1))\n",
    "    dV2_dy = -2*b2*q2+4*B2*q2**3\n",
    "\n",
    "    dV3_dx = (-4*k2*q2**2*CpW/(x-1)**5)*exp((-k2/(x-1)**4)*q2**2)#derivatives(kcal/A)\n",
    "    dV3_dy = (2*k2*q2*CpW/(x-1)**4)*exp((-k2/(x-1)**4)*q2**2) - 2*by*q2 + 4*By*q2**3#(Kcal/degre)\n",
    "\n",
    "    Fx=-(dV1_dx*(1-S1) - V1*dS1 + dS1*V2*(1-S2) - dS2*S1*V2 + S1*(1-S2)*dV2_dx + dS2*V3 + S2*dV3_dx)#Force in x direction,unit is Kcal/degree\n",
    "    Fy=-((1-S1)*dV1_dy + S1*(1-S2)*dV2_dy + S2*dV3_dy)#Torque in y direction\n",
    "    #unit conversion is needed\n",
    "    ax=Fx/mx#*418.39#linear acceleration; unit:Angstrom/s^2\n",
    "    ay=Fy*180/(3.141*my)#*418.39# angular acceleration; unit: 1/s^2. 180/3.141 multiplied ofr conersion back to radians\n",
    "\n",
    "    # Kcal/degree is converted to Kcal/rad in the nest line\n",
    "    return ax,ay \n",
    " "
   ]
  },
  {
   "cell_type": "code",
   "execution_count": 4,
   "id": "04922f1e-ab20-4100-8865-acfab75402aa",
   "metadata": {},
   "outputs": [],
   "source": [
    "#variables\n",
    "sw2 = 17\n",
    "spx2 = 2.6\n",
    "CpW = 58.1\n",
    "k2 = 0.4\n",
    "by = 0.0035\n",
    "By = 1.2e-06\n",
    "V_3 = 15.5\n",
    "a2 = 150\n",
    "V_2 = 44.2\n",
    "b2 = 0.00499\n",
    "B2 = 1.35e-06\n",
    "Sl = 1.7\n",
    "fl = 9\n",
    "ex1 = 2.3\n",
    "sw1 = 15\n",
    "spx1 = 1.9\n",
    "b1 = 0.0011\n",
    "B1 = 1.79904862716992e-06\n",
    "De = 57.2617535188108\n",
    "a = 3.1\n",
    "V_1 = 0.196\n",
    "\n",
    "ET=120#*418.39#The total energy of the system in a.m.u*Angstrom/(Picosecond)^2\n",
    "mx=3.45# linear reduced mass \n",
    "my=1.6898# the moment of inertia for the rotation; unit Kg*A^2"
   ]
  },
  {
   "cell_type": "code",
   "execution_count": 17,
   "id": "a4cd86fd-d810-4b1c-8391-950db94c0636",
   "metadata": {},
   "outputs": [],
   "source": [
    "from time import time\n",
    "import os\n",
    "\n",
    "dt=1e-3#time unit is picosecond\n",
    "TotalTime=1#time unit is picosecond\n",
    "Steps=int(TotalTime/dt)\n",
    "\n",
    "xinit,yinit,pxinit,pyinit,V_0=Initialize([1.4,1.6],[-0.15,0.15],ET)\n"
   ]
  },
  {
   "cell_type": "code",
   "execution_count": 18,
   "id": "1a013dff-72b2-41e3-a907-85b430cef84c",
   "metadata": {},
   "outputs": [
    {
     "data": {
      "image/png": "[encoded data removed]",
      "text/plain": [
       "<Figure size 432x288 with 1 Axes>"
      ]
     },
     "metadata": {
      "needs_background": "light"
     },
     "output_type": "display_data"
    },
    {
     "name": "stdout",
     "output_type": "stream",
     "text": [
      "relative error in E=0.0004514104123000394\n",
      "Initial Conditions:1.4978707162570315\t-0.13752731228829107\t18.57158368981018\t-15.370156834823398\t0.11168072306644446\n",
      "Final Conditions:6.821070392908549\t-0.7766655154170827\t21.991423555276917\t-14.909460985092853\t0.11168072306644446\n"
     ]
    }
   ],
   "source": [
    "X,Y,Px,Py,E=run(xinit,yinit,pxinit,pyinit,Steps,dt)\n",
    "\n",
    "fig=plt.figure()\n",
    "ax=plt.axes(projection='3d')\n",
    "ax.plot(X,Y,E)\n",
    "plt.show()\n",
    "\n",
    "Xi=np.copy(X)\n",
    "Yi=np.copy(Y)\n",
    "\n",
    "T=[dt*i for i in range(Steps+1)]\n",
    "\n",
    "print(f\"relative error in E={(max(E)-min(E))/min(E)}\")\n",
    "print(f\"Initial Conditions:{xinit}\\t{yinit}\\t{pxinit}\\t{pyinit}\\t{V_0}\")\n",
    "print(f\"Final Conditions:{X[-1]}\\t{Y[-1]}\\t{Px[-1]}\\t{Py[-1]}\\t{V_0}\")"
   ]
  },
  {
   "cell_type": "code",
   "execution_count": 19,
   "id": "3caae239-804f-4d00-bf8f-30e7483535c1",
   "metadata": {},
   "outputs": [
    {
     "name": "stdout",
     "output_type": "stream",
     "text": [
      "Initial Conditions:6.821070392908549\t-0.7766655154170827\t-21.991423555276917\t14.909460985092853\n",
      "Final Conditions:1.4978707162570313\t-0.13752731228829077\t-18.571583689810165\t15.370156834823401\n",
      "Error in X,Y,Vx,Vy=2.220446049250313e-16\t-3.0531133177191805e-16\t1.4210854715202004e-14\t3.552713678800501e-15\n"
     ]
    },
    {
     "data": {
      "text/plain": [
       "[<matplotlib.lines.Line2D at 0x7fd8b86fdc40>]"
      ]
     },
     "execution_count": 19,
     "metadata": {},
     "output_type": "execute_result"
    },
    {
     "data": {
      "image/png": "[encoded data removed]",
      "text/plain": [
       "<Figure size 432x288 with 1 Axes>"
      ]
     },
     "metadata": {
      "needs_background": "light"
     },
     "output_type": "display_data"
    }
   ],
   "source": [
    "xl,yl,pxl,pyl=X[-1],Y[-1],Px[-1],Py[-1]\n",
    "X,Y,Px,Py,E=run(xl,yl,-pxl,-pyl,Steps,dt)\n",
    "print(f\"Initial Conditions:{xl}\\t{yl}\\t{-pxl}\\t{-pyl}\")\n",
    "print(f\"Final Conditions:{X[-1]}\\t{Y[-1]}\\t{Px[-1]}\\t{Py[-1]}\")\n",
    "print(f\"Error in X,Y,Vx,Vy={xinit-X[-1]}\\t{yinit-Y[-1]}\\t{pxinit+Px[-1]}\\t{pyinit+Py[-1]}\")\n",
    "\n",
    "#print(E,Vx)\n",
    "#plt.plot(T,E)\n",
    "plt.plot(X,Y)\n",
    "plt.plot(Xi,Yi)"
   ]
  },
  {
   "cell_type": "code",
   "execution_count": null,
   "id": "29e5debc-e066-4d97-857a-b63da19cc74a",
   "metadata": {},
   "outputs": [],
   "source": [
    "Vy"
   ]
  },
  {
   "cell_type": "code",
   "execution_count": null,
   "id": "18154e80-3389-4693-900e-b89470dd96cb",
   "metadata": {},
   "outputs": [],
   "source": [
    "Xplot=np.linspace(1.3,5,50)\n",
    "Yplot=np.linspace(-80*3.141/180,80*3.141/180,50)\n",
    "Q1=[]\n",
    "Q2=[]\n",
    "En=[]\n",
    "for x in Xplot:\n",
    "    for y in Yplot:\n",
    "        e=PES(x,y)\n",
    "        Q1.append(x)\n",
    "        Q2.append(y)\n",
    "        En.append(e)"
   ]
  },
  {
   "cell_type": "code",
   "execution_count": null,
   "id": "16e19c26-4fac-4673-af74-53aa50078f52",
   "metadata": {},
   "outputs": [],
   "source": [
    "len(Y)\n",
    "%matplotlib qt"
   ]
  },
  {
   "cell_type": "code",
   "execution_count": null,
   "id": "749671b0-882d-4006-87ac-4004deac7c18",
   "metadata": {},
   "outputs": [],
   "source": [
    "fig=plt.figure(figsize=(15,10))\n",
    "ax=plt.axes(projection='3d')\n",
    "APES=ax.scatter(Q1,Q2,En,c=En,cmap='winter', linewidth=0.5,label='Analytical PES')\n",
    "traj=ax.scatter(X,Y,E,c=T,cmap='viridis')\n",
    "plt.title(\"Error in analytical approximation 4\")\n",
    "plt.xlabel(\"X\")\n",
    "plt.ylabel(\"Y\")\n",
    "#ax.set_zlim3d(119,121)\n",
    "plt.legend()\n",
    "#plt.savefig(\"error_analytical4.png\",dpi=650)\n",
    "#plt.colorbar(traj)"
   ]
  },
  {
   "cell_type": "code",
   "execution_count": null,
   "id": "4756c3a9-16a0-4c3b-aac0-50214be2e45a",
   "metadata": {},
   "outputs": [],
   "source": []
  }
 ],
 "metadata": {
  "kernelspec": {
   "display_name": "Python 3 (ipykernel)",
   "language": "python",
   "name": "python3"
  },
  "language_info": {
   "codemirror_mode": {
    "name": "ipython",
    "version": 3
   },
   "file_extension": ".py",
   "mimetype": "text/x-python",
   "name": "python",
   "nbconvert_exporter": "python",
   "pygments_lexer": "ipython3",
   "version": "3.8.10"
  }
 },
 "nbformat": 4,
 "nbformat_minor": 5
}
